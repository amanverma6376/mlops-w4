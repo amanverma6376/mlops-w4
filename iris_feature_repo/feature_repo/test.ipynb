{
 "cells": [
  {
   "cell_type": "code",
   "execution_count": 4,
   "id": "e3958c3f-5033-4144-85c5-56dbcb169385",
   "metadata": {
    "tags": []
   },
   "outputs": [
    {
     "ename": "FileNotFoundError",
     "evalue": "[Errno 2] No such file or directory: '˜/iris_feature_repo/feature_repo/feature_store.yaml'",
     "output_type": "error",
     "traceback": [
      "\u001b[0;31m---------------------------------------------------------------------------\u001b[0m",
      "\u001b[0;31mFileNotFoundError\u001b[0m                         Traceback (most recent call last)",
      "Cell \u001b[0;32mIn[4], line 7\u001b[0m\n\u001b[1;32m      4\u001b[0m \u001b[38;5;28;01mimport\u001b[39;00m\u001b[38;5;250m \u001b[39m\u001b[38;5;21;01mjoblib\u001b[39;00m\n\u001b[1;32m      6\u001b[0m \u001b[38;5;66;03m# Connect to your feature store\u001b[39;00m\n\u001b[0;32m----> 7\u001b[0m fs \u001b[38;5;241m=\u001b[39m \u001b[43mFeatureStore\u001b[49m\u001b[43m(\u001b[49m\u001b[43mrepo_path\u001b[49m\u001b[38;5;241;43m=\u001b[39;49m\u001b[38;5;124;43m\"\u001b[39;49m\u001b[38;5;124;43m˜/iris_feature_repo/feature_repo\u001b[39;49m\u001b[38;5;124;43m\"\u001b[39;49m\u001b[43m)\u001b[49m\n\u001b[1;32m      9\u001b[0m entity_df \u001b[38;5;241m=\u001b[39m pd\u001b[38;5;241m.\u001b[39mDataFrame({\n\u001b[1;32m     10\u001b[0m     \u001b[38;5;124m\"\u001b[39m\u001b[38;5;124miris_entity_id\u001b[39m\u001b[38;5;124m\"\u001b[39m: [\u001b[38;5;241m1\u001b[39m],\n\u001b[1;32m     11\u001b[0m     \u001b[38;5;124m\"\u001b[39m\u001b[38;5;124mevent_timestamp\u001b[39m\u001b[38;5;124m\"\u001b[39m: pd\u001b[38;5;241m.\u001b[39mto_datetime([\u001b[38;5;124m\"\u001b[39m\u001b[38;5;124m2023-01-01\u001b[39m\u001b[38;5;124m\"\u001b[39m, \u001b[38;5;124m\"\u001b[39m\u001b[38;5;124m2023-01-02\u001b[39m\u001b[38;5;124m\"\u001b[39m, \u001b[38;5;124m\"\u001b[39m\u001b[38;5;124m2023-01-03\u001b[39m\u001b[38;5;124m\"\u001b[39m])\n\u001b[1;32m     12\u001b[0m })\n\u001b[1;32m     14\u001b[0m training_df \u001b[38;5;241m=\u001b[39m fs\u001b[38;5;241m.\u001b[39mget_historical_features(\n\u001b[1;32m     15\u001b[0m     entity_df\u001b[38;5;241m=\u001b[39mentity_df,\n\u001b[1;32m     16\u001b[0m     features\u001b[38;5;241m=\u001b[39m[\n\u001b[0;32m   (...)\u001b[0m\n\u001b[1;32m     22\u001b[0m     ]\n\u001b[1;32m     23\u001b[0m )\u001b[38;5;241m.\u001b[39mto_df()\n",
      "File \u001b[0;32m/opt/conda/lib/python3.10/site-packages/feast/feature_store.py:149\u001b[0m, in \u001b[0;36mFeatureStore.__init__\u001b[0;34m(self, repo_path, config, fs_yaml_file)\u001b[0m\n\u001b[1;32m    147\u001b[0m     \u001b[38;5;28mself\u001b[39m\u001b[38;5;241m.\u001b[39mconfig \u001b[38;5;241m=\u001b[39m load_repo_config(\u001b[38;5;28mself\u001b[39m\u001b[38;5;241m.\u001b[39mrepo_path, fs_yaml_file)\n\u001b[1;32m    148\u001b[0m \u001b[38;5;28;01melse\u001b[39;00m:\n\u001b[0;32m--> 149\u001b[0m     \u001b[38;5;28mself\u001b[39m\u001b[38;5;241m.\u001b[39mconfig \u001b[38;5;241m=\u001b[39m \u001b[43mload_repo_config\u001b[49m\u001b[43m(\u001b[49m\n\u001b[1;32m    150\u001b[0m \u001b[43m        \u001b[49m\u001b[38;5;28;43mself\u001b[39;49m\u001b[38;5;241;43m.\u001b[39;49m\u001b[43mrepo_path\u001b[49m\u001b[43m,\u001b[49m\u001b[43m \u001b[49m\u001b[43mutils\u001b[49m\u001b[38;5;241;43m.\u001b[39;49m\u001b[43mget_default_yaml_file_path\u001b[49m\u001b[43m(\u001b[49m\u001b[38;5;28;43mself\u001b[39;49m\u001b[38;5;241;43m.\u001b[39;49m\u001b[43mrepo_path\u001b[49m\u001b[43m)\u001b[49m\n\u001b[1;32m    151\u001b[0m \u001b[43m    \u001b[49m\u001b[43m)\u001b[49m\n\u001b[1;32m    153\u001b[0m registry_config \u001b[38;5;241m=\u001b[39m \u001b[38;5;28mself\u001b[39m\u001b[38;5;241m.\u001b[39mconfig\u001b[38;5;241m.\u001b[39mregistry\n\u001b[1;32m    154\u001b[0m \u001b[38;5;28;01mif\u001b[39;00m registry_config\u001b[38;5;241m.\u001b[39mregistry_type \u001b[38;5;241m==\u001b[39m \u001b[38;5;124m\"\u001b[39m\u001b[38;5;124msql\u001b[39m\u001b[38;5;124m\"\u001b[39m:\n",
      "File \u001b[0;32m/opt/conda/lib/python3.10/site-packages/feast/repo_config.py:597\u001b[0m, in \u001b[0;36mload_repo_config\u001b[0;34m(repo_path, fs_yaml_file)\u001b[0m\n\u001b[1;32m    594\u001b[0m \u001b[38;5;28;01mdef\u001b[39;00m\u001b[38;5;250m \u001b[39m\u001b[38;5;21mload_repo_config\u001b[39m(repo_path: Path, fs_yaml_file: Path) \u001b[38;5;241m-\u001b[39m\u001b[38;5;241m>\u001b[39m RepoConfig:\n\u001b[1;32m    595\u001b[0m     config_path \u001b[38;5;241m=\u001b[39m fs_yaml_file\n\u001b[0;32m--> 597\u001b[0m     \u001b[38;5;28;01mwith\u001b[39;00m \u001b[38;5;28;43mopen\u001b[39;49m\u001b[43m(\u001b[49m\u001b[43mconfig_path\u001b[49m\u001b[43m)\u001b[49m \u001b[38;5;28;01mas\u001b[39;00m f:\n\u001b[1;32m    598\u001b[0m         raw_config \u001b[38;5;241m=\u001b[39m yaml\u001b[38;5;241m.\u001b[39msafe_load(os\u001b[38;5;241m.\u001b[39mpath\u001b[38;5;241m.\u001b[39mexpandvars(f\u001b[38;5;241m.\u001b[39mread()))\n\u001b[1;32m    599\u001b[0m         \u001b[38;5;28;01mtry\u001b[39;00m:\n",
      "\u001b[0;31mFileNotFoundError\u001b[0m: [Errno 2] No such file or directory: '˜/iris_feature_repo/feature_repo/feature_store.yaml'"
     ]
    }
   ],
   "source": [
    "import pandas as pd\n",
    "from feast import FeatureStore\n",
    "from sklearn.tree import DecisionTreeClassifier\n",
    "import joblib\n",
    "\n",
    "# Connect to your feature store\n",
    "fs = FeatureStore(repo_path=\"˜/iris_feature_repo/feature_repo\")\n",
    "\n",
    "entity_df = pd.DataFrame({\n",
    "    \"iris_entity_id\": [1],\n",
    "    \"event_timestamp\": pd.to_datetime([\"2025-01-01\"])\n",
    "})\n",
    "\n",
    "training_df = fs.get_historical_features(\n",
    "    entity_df=entity_df,\n",
    "    features=[\n",
    "        \"iris_features:sepal_length\",\n",
    "        \"iris_features:sepal_width\",\n",
    "        \"iris_features:petal_length\",\n",
    "        \"iris_features:petal_width\",\n",
    "        \"iris_features:species\"  \n",
    "    ]\n",
    ").to_df()\n",
    "\n",
    "X = training_df[[\"sepal_length\", \"sepal_width\", \"petal_length\", \"petal_width\"]]\n",
    "y = training_df[\"species\"]\n",
    "model = DecisionTreeClassifier().fit(X, y)\n",
    "joblib.dump(model, \"iris_model.joblib\")\n"
   ]
  },
  {
   "cell_type": "code",
   "execution_count": null,
   "id": "b075e06f-38e9-4e99-945f-12279dd10119",
   "metadata": {},
   "outputs": [],
   "source": [
    "classifier = IrisClassifier()\n",
    "prediction = classifier.predict(1001)\n",
    "print(f\"Predicted species for iris_entity_id 1001: {prediction}\")\n"
   ]
  }
 ],
 "metadata": {
  "environment": {
   "kernel": "conda-base-py",
   "name": "workbench-notebooks.m129",
   "type": "gcloud",
   "uri": "us-docker.pkg.dev/deeplearning-platform-release/gcr.io/workbench-notebooks:m129"
  },
  "kernelspec": {
   "display_name": "Python 3 (ipykernel)",
   "language": "python",
   "name": "conda-base-py"
  },
  "language_info": {
   "codemirror_mode": {
    "name": "ipython",
    "version": 3
   },
   "file_extension": ".py",
   "mimetype": "text/x-python",
   "name": "python",
   "nbconvert_exporter": "python",
   "pygments_lexer": "ipython3",
   "version": "3.10.16"
  }
 },
 "nbformat": 4,
 "nbformat_minor": 5
}
